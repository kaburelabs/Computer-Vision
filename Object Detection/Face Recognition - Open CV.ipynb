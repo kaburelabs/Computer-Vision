{
 "cells": [
  {
   "cell_type": "markdown",
   "metadata": {},
   "source": [
    "Correct enviroment: sklearn_ml_kernel\n",
    "\n",
    "## First OPEN CV touch"
   ]
  },
  {
   "cell_type": "code",
   "execution_count": 1,
   "metadata": {},
   "outputs": [],
   "source": [
    "import os\n",
    "\n",
    "base_directory = os.path.abspath(os.getcwd())\n",
    "\n",
    "directory_cv2 = os.path.join(base_directory, \"anaconda3\", \"envs\", \n",
    "                             \"sklearn_ml\",\"share\", 'OpenCV', \n",
    "                             'haarcascade')"
   ]
  },
  {
   "cell_type": "code",
   "execution_count": 2,
   "metadata": {},
   "outputs": [
    {
     "data": {
      "text/plain": [
       "'/home/leonardo/models/research/object_detection/anaconda3/envs/sklearn_ml/share/OpenCV/haarcascade'"
      ]
     },
     "execution_count": 2,
     "metadata": {},
     "output_type": "execute_result"
    }
   ],
   "source": [
    "directory_cv2"
   ]
  },
  {
   "cell_type": "code",
   "execution_count": 3,
   "metadata": {},
   "outputs": [
    {
     "data": {
      "text/plain": [
       "'/home/leonardo/models/research/object_detection/anaconda3/envs/sklearn_ml/share/OpenCV/haarcascade/haarcascade_frontalface_default.xml'"
      ]
     },
     "execution_count": 3,
     "metadata": {},
     "output_type": "execute_result"
    }
   ],
   "source": [
    "directory_cv2 + '/haarcascade_frontalface_default.xml'"
   ]
  },
  {
   "cell_type": "code",
   "execution_count": 4,
   "metadata": {},
   "outputs": [],
   "source": [
    "## Importing the Library\n",
    "import cv2 \n",
    "\n",
    "\n",
    "# setting the cascades .xml algos\n",
    "face_cascade = cv2.CascadeClassifier('haarcascade_frontalface_default.xml') \n",
    "eye_cascade = cv2.CascadeClassifier('haarcascade_eye.xml') "
   ]
  },
  {
   "cell_type": "code",
   "execution_count": null,
   "metadata": {},
   "outputs": [],
   "source": [
    "# Capture webcam/video image\n",
    "cap = cv2.VideoCapture(0) \n",
    "\n",
    "while 1: \n",
    "    # getting camera image\n",
    "    ret, img = cap.read() \n",
    "    \n",
    "    # seting the image to gray color\n",
    "    gray = cv2.cvtColor(img, cv2.COLOR_BGR2GRAY) \n",
    "    \n",
    "    # instantianting the \n",
    "    faces = face_cascade.detectMultiScale(gray, 1.3, 2) \n",
    "    \n",
    "    # Tracking the face\n",
    "    for (x,y,w,h) in faces: \n",
    "        # Setting the rectangle to the faces\n",
    "        cv2.rectangle(img,(x,y),(x+w,y+h),\n",
    "                      (255,255,0),2) \n",
    "        \n",
    "        roi_gray = gray[y:y+h, x:x+w] \n",
    "        roi_color = img[y:y+h, x:x+w] \n",
    "        \n",
    "        eyes = eye_cascade.detectMultiScale(roi_gray) \n",
    "        \n",
    "        # Tracking the eyes\n",
    "        for (ex,ey,ew,eh) in eyes: \n",
    "            cv2.rectangle(roi_color,\n",
    "                          (ex,ey),\n",
    "                          (ex+ew,ey+eh),\n",
    "                          (0,127,255),2) \n",
    "            \n",
    "    # show the image \n",
    "    cv2.imshow('img', img) \n",
    "    \n",
    "    k = cv2.waitKey(5) \n",
    "    if k == 27 | 0xFF == ord('q'): \n",
    "        cv2.destroyAllWindows() \n",
    "        # cap.release() \n",
    "        break\n",
    "        \n",
    "cap.release() \n",
    "cv2.destroyAllWindows() "
   ]
  },
  {
   "cell_type": "code",
   "execution_count": null,
   "metadata": {},
   "outputs": [],
   "source": []
  },
  {
   "cell_type": "code",
   "execution_count": null,
   "metadata": {},
   "outputs": [],
   "source": []
  },
  {
   "cell_type": "code",
   "execution_count": null,
   "metadata": {},
   "outputs": [],
   "source": [
    "import cv2\n",
    "image = cv2.imread(\"461777879.jpg\")\n",
    "\n",
    "cv2.imshow(\"Image\", image)\n",
    "cv2.waitKey(0)"
   ]
  },
  {
   "cell_type": "code",
   "execution_count": null,
   "metadata": {},
   "outputs": [],
   "source": []
  },
  {
   "cell_type": "code",
   "execution_count": null,
   "metadata": {},
   "outputs": [],
   "source": []
  }
 ],
 "metadata": {
  "kernelspec": {
   "display_name": "sklearn_ml_kernel",
   "language": "python",
   "name": "sklearn_ml"
  },
  "language_info": {
   "codemirror_mode": {
    "name": "ipython",
    "version": 3
   },
   "file_extension": ".py",
   "mimetype": "text/x-python",
   "name": "python",
   "nbconvert_exporter": "python",
   "pygments_lexer": "ipython3",
   "version": "3.7.4"
  }
 },
 "nbformat": 4,
 "nbformat_minor": 2
}
