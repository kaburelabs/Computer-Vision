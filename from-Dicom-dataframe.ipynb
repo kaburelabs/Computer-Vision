{
 "cells": [
  {
   "cell_type": "markdown",
   "metadata": {},
   "source": [
    "It's really handy to have all the DICOM info available in a single DataFrame, so let's create that! In this notebook, we'll just create the DICOM DataFrames. To see how to use them to analyze the competition data, see [this followup notebook](https://www.kaggle.com/jhoward/some-dicom-gotchas-to-be-aware-of-fastai).\n",
    "\n",
    "First, we'll install the latest versions of pytorch and fastai v2 (not officially released yet) so we can use the fastai medical imaging module."
   ]
  },
  {
   "cell_type": "code",
   "execution_count": 1,
   "metadata": {
    "_cell_guid": "b1076dfc-b9ad-4769-8c92-a6c4dae69d19",
    "_uuid": "8f2839f25d086af736a60e9eeb907d3b93b6e0e5"
   },
   "outputs": [
    {
     "name": "stdout",
     "output_type": "stream",
     "text": [
      "\u001b[31mERROR: allennlp 0.9.0 requires flaky, which is not installed.\u001b[0m\r\n",
      "\u001b[31mERROR: allennlp 0.9.0 requires responses>=0.7, which is not installed.\u001b[0m\r\n",
      "  Running command git clone -q https://github.com/fastai/fastai_dev /tmp/pip-req-build-g7ab0_ar\r\n"
     ]
    }
   ],
   "source": [
    "!pip install torch torchvision feather-format pyarrow --upgrade   > /dev/null\n",
    "!pip install git+https://github.com/fastai/fastai_dev             > /dev/null"
   ]
  },
  {
   "cell_type": "code",
   "execution_count": 2,
   "metadata": {
    "_cell_guid": "79c7e3d0-c299-4dcb-8224-4455121ee9b0",
    "_uuid": "d629ff2d2480ee46fbb7e2d37f6b5fab8052498a"
   },
   "outputs": [],
   "source": [
    "from fastai2.torch_basics      import *\n",
    "from fastai2.data.all          import *\n",
    "from fastai2.test              import *\n",
    "from fastai2.medical.imaging   import *"
   ]
  },
  {
   "cell_type": "markdown",
   "metadata": {},
   "source": [
    "Let's take a look at what files we have in the dataset."
   ]
  },
  {
   "cell_type": "code",
   "execution_count": 3,
   "metadata": {},
   "outputs": [],
   "source": [
    "path = Path('../input/rsna-intracranial-hemorrhage-detection/')"
   ]
  },
  {
   "cell_type": "markdown",
   "metadata": {},
   "source": [
    "Most lists in fastai v2, including that returned by `Path.ls`, are returned as a [fastai.core.L](http://dev.fast.ai/core.html#L), which has lots of handy methods, such as `attrgot` used here to grab file names."
   ]
  },
  {
   "cell_type": "code",
   "execution_count": 4,
   "metadata": {},
   "outputs": [
    {
     "data": {
      "text/plain": [
       "(#5) [ID_231d901c1.dcm,ID_994bc0470.dcm,ID_127689cce.dcm,ID_25457734a.dcm,ID_81c9aa125.dcm]"
      ]
     },
     "execution_count": 4,
     "metadata": {},
     "output_type": "execute_result"
    }
   ],
   "source": [
    "path_trn = path/'stage_1_train_images'\n",
    "fns_trn = path_trn.ls()\n",
    "fns_trn[:5].attrgot('name')"
   ]
  },
  {
   "cell_type": "code",
   "execution_count": 5,
   "metadata": {},
   "outputs": [
    {
     "data": {
      "text/plain": [
       "(674258, 78545)"
      ]
     },
     "execution_count": 5,
     "metadata": {},
     "output_type": "execute_result"
    }
   ],
   "source": [
    "path_tst = path/'stage_1_test_images'\n",
    "fns_tst = path_tst.ls()\n",
    "len(fns_trn),len(fns_tst)"
   ]
  },
  {
   "cell_type": "markdown",
   "metadata": {},
   "source": [
    "We can grab a file and take a look inside using the `dcmread` method that fastai v2 adds."
   ]
  },
  {
   "cell_type": "code",
   "execution_count": 6,
   "metadata": {},
   "outputs": [
    {
     "data": {
      "text/plain": [
       "(0008, 0018) SOP Instance UID                    UI: ID_231d901c1\n",
       "(0008, 0060) Modality                            CS: 'CT'\n",
       "(0010, 0020) Patient ID                          LO: 'ID_b81a287f'\n",
       "(0020, 000d) Study Instance UID                  UI: ID_dd37ba3adb\n",
       "(0020, 000e) Series Instance UID                 UI: ID_15dcd6057a\n",
       "(0020, 0010) Study ID                            SH: ''\n",
       "(0020, 0032) Image Position (Patient)            DS: ['-125.000', '-123.101', '104.307']\n",
       "(0020, 0037) Image Orientation (Patient)         DS: ['1.000000', '0.000000', '0.000000', '0.000000', '0.984808', '-0.173648']\n",
       "(0028, 0002) Samples per Pixel                   US: 1\n",
       "(0028, 0004) Photometric Interpretation          CS: 'MONOCHROME2'\n",
       "(0028, 0010) Rows                                US: 512\n",
       "(0028, 0011) Columns                             US: 512\n",
       "(0028, 0030) Pixel Spacing                       DS: ['0.488281', '0.488281']\n",
       "(0028, 0100) Bits Allocated                      US: 16\n",
       "(0028, 0101) Bits Stored                         US: 16\n",
       "(0028, 0102) High Bit                            US: 15\n",
       "(0028, 0103) Pixel Representation                US: 1\n",
       "(0028, 1050) Window Center                       DS: \"40\"\n",
       "(0028, 1051) Window Width                        DS: \"100\"\n",
       "(0028, 1052) Rescale Intercept                   DS: \"-1024\"\n",
       "(0028, 1053) Rescale Slope                       DS: \"1\"\n",
       "(7fe0, 0010) Pixel Data                          OW: Array of 524288 elements"
      ]
     },
     "execution_count": 6,
     "metadata": {},
     "output_type": "execute_result"
    }
   ],
   "source": [
    "fn = fns_trn[0]\n",
    "dcm = fn.dcmread()\n",
    "dcm"
   ]
  },
  {
   "cell_type": "markdown",
   "metadata": {},
   "source": [
    "# Labels"
   ]
  },
  {
   "cell_type": "markdown",
   "metadata": {},
   "source": [
    "Before we pull the metadata out of the DIMCOM files, let's process the labels into a convenient format and save it for later. We'll use *feather* format because it's lightning fast!"
   ]
  },
  {
   "cell_type": "code",
   "execution_count": 7,
   "metadata": {},
   "outputs": [],
   "source": [
    "def save_lbls():\n",
    "    path_lbls = path/'stage_1_train.csv'\n",
    "    lbls = pd.read_csv(path_lbls)\n",
    "    lbls[[\"ID\",\"htype\"]] = lbls.ID.str.rsplit(\"_\", n=1, expand=True)\n",
    "    lbls.drop_duplicates(['ID','htype'], inplace=True)\n",
    "    pvt = lbls.pivot('ID', 'htype', 'Label')\n",
    "    pvt.reset_index(inplace=True)    \n",
    "    pvt.to_feather('labels.fth')"
   ]
  },
  {
   "cell_type": "code",
   "execution_count": 8,
   "metadata": {},
   "outputs": [],
   "source": [
    "save_lbls()"
   ]
  },
  {
   "cell_type": "code",
   "execution_count": 9,
   "metadata": {},
   "outputs": [
    {
     "data": {
      "text/html": [
       "<div>\n",
       "<style scoped>\n",
       "    .dataframe tbody tr th:only-of-type {\n",
       "        vertical-align: middle;\n",
       "    }\n",
       "\n",
       "    .dataframe tbody tr th {\n",
       "        vertical-align: top;\n",
       "    }\n",
       "\n",
       "    .dataframe thead th {\n",
       "        text-align: right;\n",
       "    }\n",
       "</style>\n",
       "<table border=\"1\" class=\"dataframe\">\n",
       "  <thead>\n",
       "    <tr style=\"text-align: right;\">\n",
       "      <th></th>\n",
       "      <th>any</th>\n",
       "      <th>epidural</th>\n",
       "      <th>intraparenchymal</th>\n",
       "      <th>intraventricular</th>\n",
       "      <th>subarachnoid</th>\n",
       "      <th>subdural</th>\n",
       "    </tr>\n",
       "    <tr>\n",
       "      <th>ID</th>\n",
       "      <th></th>\n",
       "      <th></th>\n",
       "      <th></th>\n",
       "      <th></th>\n",
       "      <th></th>\n",
       "      <th></th>\n",
       "    </tr>\n",
       "  </thead>\n",
       "  <tbody>\n",
       "    <tr>\n",
       "      <td>ID_000039fa0</td>\n",
       "      <td>0</td>\n",
       "      <td>0</td>\n",
       "      <td>0</td>\n",
       "      <td>0</td>\n",
       "      <td>0</td>\n",
       "      <td>0</td>\n",
       "    </tr>\n",
       "    <tr>\n",
       "      <td>ID_00005679d</td>\n",
       "      <td>0</td>\n",
       "      <td>0</td>\n",
       "      <td>0</td>\n",
       "      <td>0</td>\n",
       "      <td>0</td>\n",
       "      <td>0</td>\n",
       "    </tr>\n",
       "    <tr>\n",
       "      <td>ID_00008ce3c</td>\n",
       "      <td>0</td>\n",
       "      <td>0</td>\n",
       "      <td>0</td>\n",
       "      <td>0</td>\n",
       "      <td>0</td>\n",
       "      <td>0</td>\n",
       "    </tr>\n",
       "    <tr>\n",
       "      <td>ID_0000950d7</td>\n",
       "      <td>0</td>\n",
       "      <td>0</td>\n",
       "      <td>0</td>\n",
       "      <td>0</td>\n",
       "      <td>0</td>\n",
       "      <td>0</td>\n",
       "    </tr>\n",
       "    <tr>\n",
       "      <td>ID_0000aee4b</td>\n",
       "      <td>0</td>\n",
       "      <td>0</td>\n",
       "      <td>0</td>\n",
       "      <td>0</td>\n",
       "      <td>0</td>\n",
       "      <td>0</td>\n",
       "    </tr>\n",
       "    <tr>\n",
       "      <td>ID_0000f1657</td>\n",
       "      <td>0</td>\n",
       "      <td>0</td>\n",
       "      <td>0</td>\n",
       "      <td>0</td>\n",
       "      <td>0</td>\n",
       "      <td>0</td>\n",
       "    </tr>\n",
       "    <tr>\n",
       "      <td>ID_000178e76</td>\n",
       "      <td>0</td>\n",
       "      <td>0</td>\n",
       "      <td>0</td>\n",
       "      <td>0</td>\n",
       "      <td>0</td>\n",
       "      <td>0</td>\n",
       "    </tr>\n",
       "    <tr>\n",
       "      <td>ID_00019828f</td>\n",
       "      <td>0</td>\n",
       "      <td>0</td>\n",
       "      <td>0</td>\n",
       "      <td>0</td>\n",
       "      <td>0</td>\n",
       "      <td>0</td>\n",
       "    </tr>\n",
       "  </tbody>\n",
       "</table>\n",
       "</div>"
      ],
      "text/plain": [
       "              any  epidural  intraparenchymal  intraventricular  subarachnoid  \\\n",
       "ID                                                                              \n",
       "ID_000039fa0    0         0                 0                 0             0   \n",
       "ID_00005679d    0         0                 0                 0             0   \n",
       "ID_00008ce3c    0         0                 0                 0             0   \n",
       "ID_0000950d7    0         0                 0                 0             0   \n",
       "ID_0000aee4b    0         0                 0                 0             0   \n",
       "ID_0000f1657    0         0                 0                 0             0   \n",
       "ID_000178e76    0         0                 0                 0             0   \n",
       "ID_00019828f    0         0                 0                 0             0   \n",
       "\n",
       "              subdural  \n",
       "ID                      \n",
       "ID_000039fa0         0  \n",
       "ID_00005679d         0  \n",
       "ID_00008ce3c         0  \n",
       "ID_0000950d7         0  \n",
       "ID_0000aee4b         0  \n",
       "ID_0000f1657         0  \n",
       "ID_000178e76         0  \n",
       "ID_00019828f         0  "
      ]
     },
     "execution_count": 9,
     "metadata": {},
     "output_type": "execute_result"
    }
   ],
   "source": [
    "df_lbls = pd.read_feather('labels.fth').set_index('ID')\n",
    "df_lbls.head(8)"
   ]
  },
  {
   "cell_type": "code",
   "execution_count": 10,
   "metadata": {},
   "outputs": [
    {
     "data": {
      "text/plain": [
       "any                 0.144015\n",
       "epidural            0.004095\n",
       "intraparenchymal    0.048296\n",
       "intraventricular    0.035248\n",
       "subarachnoid        0.047641\n",
       "subdural            0.063026\n",
       "dtype: float64"
      ]
     },
     "execution_count": 10,
     "metadata": {},
     "output_type": "execute_result"
    }
   ],
   "source": [
    "df_lbls.mean()"
   ]
  },
  {
   "cell_type": "markdown",
   "metadata": {},
   "source": [
    "There's not much RAM on these kaggle kernel instances, so we'll clean up as we go."
   ]
  },
  {
   "cell_type": "code",
   "execution_count": 11,
   "metadata": {},
   "outputs": [],
   "source": [
    "del(df_lbls)\n",
    "import gc; gc.collect();"
   ]
  },
  {
   "cell_type": "markdown",
   "metadata": {},
   "source": [
    "# DICOM Meta"
   ]
  },
  {
   "cell_type": "markdown",
   "metadata": {},
   "source": [
    "To turn the DICOM file metadata into a DataFrame we can use the `from_dicoms` function that fastai v2 adds. By passing `px_summ=True` summary statistics of the image pixels (mean/min/max/std) will be added to the DataFrame as well (although it takes much longer if you include this, since the image data has to be uncompressed)."
   ]
  },
  {
   "cell_type": "code",
   "execution_count": 12,
   "metadata": {},
   "outputs": [
    {
     "name": "stdout",
     "output_type": "stream",
     "text": [
      "CPU times: user 1min 4s, sys: 25.4 s, total: 1min 30s\n",
      "Wall time: 5min 19s\n"
     ]
    },
    {
     "data": {
      "text/html": [
       "<div>\n",
       "<style scoped>\n",
       "    .dataframe tbody tr th:only-of-type {\n",
       "        vertical-align: middle;\n",
       "    }\n",
       "\n",
       "    .dataframe tbody tr th {\n",
       "        vertical-align: top;\n",
       "    }\n",
       "\n",
       "    .dataframe thead th {\n",
       "        text-align: right;\n",
       "    }\n",
       "</style>\n",
       "<table border=\"1\" class=\"dataframe\">\n",
       "  <thead>\n",
       "    <tr style=\"text-align: right;\">\n",
       "      <th></th>\n",
       "      <th>SOPInstanceUID</th>\n",
       "      <th>Modality</th>\n",
       "      <th>PatientID</th>\n",
       "      <th>StudyInstanceUID</th>\n",
       "      <th>SeriesInstanceUID</th>\n",
       "      <th>StudyID</th>\n",
       "      <th>ImagePositionPatient</th>\n",
       "      <th>ImageOrientationPatient</th>\n",
       "      <th>SamplesPerPixel</th>\n",
       "      <th>PhotometricInterpretation</th>\n",
       "      <th>...</th>\n",
       "      <th>MultiPixelSpacing</th>\n",
       "      <th>PixelSpacing1</th>\n",
       "      <th>img_min</th>\n",
       "      <th>img_max</th>\n",
       "      <th>img_mean</th>\n",
       "      <th>img_std</th>\n",
       "      <th>MultiWindowCenter</th>\n",
       "      <th>WindowCenter1</th>\n",
       "      <th>MultiWindowWidth</th>\n",
       "      <th>WindowWidth1</th>\n",
       "    </tr>\n",
       "  </thead>\n",
       "  <tbody>\n",
       "    <tr>\n",
       "      <td>0</td>\n",
       "      <td>ID_47a2de312</td>\n",
       "      <td>CT</td>\n",
       "      <td>ID_ae549afd</td>\n",
       "      <td>ID_ed2df9f4f0</td>\n",
       "      <td>ID_823c0e49f8</td>\n",
       "      <td></td>\n",
       "      <td>-125.0</td>\n",
       "      <td>1.0</td>\n",
       "      <td>1</td>\n",
       "      <td>MONOCHROME2</td>\n",
       "      <td>...</td>\n",
       "      <td>1</td>\n",
       "      <td>0.488281</td>\n",
       "      <td>-2000</td>\n",
       "      <td>2779</td>\n",
       "      <td>14.395943</td>\n",
       "      <td>1202.477116</td>\n",
       "      <td>NaN</td>\n",
       "      <td>NaN</td>\n",
       "      <td>NaN</td>\n",
       "      <td>NaN</td>\n",
       "    </tr>\n",
       "    <tr>\n",
       "      <td>1</td>\n",
       "      <td>ID_0ea75f68f</td>\n",
       "      <td>CT</td>\n",
       "      <td>ID_2e2abf40</td>\n",
       "      <td>ID_76ee69d498</td>\n",
       "      <td>ID_517894241c</td>\n",
       "      <td></td>\n",
       "      <td>-125.0</td>\n",
       "      <td>1.0</td>\n",
       "      <td>1</td>\n",
       "      <td>MONOCHROME2</td>\n",
       "      <td>...</td>\n",
       "      <td>1</td>\n",
       "      <td>0.488281</td>\n",
       "      <td>-2000</td>\n",
       "      <td>3392</td>\n",
       "      <td>66.198795</td>\n",
       "      <td>1205.325972</td>\n",
       "      <td>NaN</td>\n",
       "      <td>NaN</td>\n",
       "      <td>NaN</td>\n",
       "      <td>NaN</td>\n",
       "    </tr>\n",
       "    <tr>\n",
       "      <td>2</td>\n",
       "      <td>ID_508306a1f</td>\n",
       "      <td>CT</td>\n",
       "      <td>ID_ad5a9ac9</td>\n",
       "      <td>ID_dbfdc62c5a</td>\n",
       "      <td>ID_a698fcc176</td>\n",
       "      <td></td>\n",
       "      <td>-125.0</td>\n",
       "      <td>1.0</td>\n",
       "      <td>1</td>\n",
       "      <td>MONOCHROME2</td>\n",
       "      <td>...</td>\n",
       "      <td>1</td>\n",
       "      <td>0.488281</td>\n",
       "      <td>-2000</td>\n",
       "      <td>1359</td>\n",
       "      <td>-362.891445</td>\n",
       "      <td>868.746300</td>\n",
       "      <td>NaN</td>\n",
       "      <td>NaN</td>\n",
       "      <td>NaN</td>\n",
       "      <td>NaN</td>\n",
       "    </tr>\n",
       "    <tr>\n",
       "      <td>3</td>\n",
       "      <td>ID_efc19ad30</td>\n",
       "      <td>CT</td>\n",
       "      <td>ID_bc57b857</td>\n",
       "      <td>ID_7be6a5b9ee</td>\n",
       "      <td>ID_8691d27be3</td>\n",
       "      <td></td>\n",
       "      <td>-125.0</td>\n",
       "      <td>1.0</td>\n",
       "      <td>1</td>\n",
       "      <td>MONOCHROME2</td>\n",
       "      <td>...</td>\n",
       "      <td>1</td>\n",
       "      <td>0.488281</td>\n",
       "      <td>-2000</td>\n",
       "      <td>2334</td>\n",
       "      <td>-268.467430</td>\n",
       "      <td>1249.256516</td>\n",
       "      <td>NaN</td>\n",
       "      <td>NaN</td>\n",
       "      <td>NaN</td>\n",
       "      <td>NaN</td>\n",
       "    </tr>\n",
       "    <tr>\n",
       "      <td>4</td>\n",
       "      <td>ID_ba886fcc2</td>\n",
       "      <td>CT</td>\n",
       "      <td>ID_e2441ca0</td>\n",
       "      <td>ID_eb2b4f4bef</td>\n",
       "      <td>ID_4c05f02584</td>\n",
       "      <td></td>\n",
       "      <td>-125.0</td>\n",
       "      <td>1.0</td>\n",
       "      <td>1</td>\n",
       "      <td>MONOCHROME2</td>\n",
       "      <td>...</td>\n",
       "      <td>1</td>\n",
       "      <td>0.488281</td>\n",
       "      <td>-2000</td>\n",
       "      <td>2742</td>\n",
       "      <td>-272.197708</td>\n",
       "      <td>985.178578</td>\n",
       "      <td>NaN</td>\n",
       "      <td>NaN</td>\n",
       "      <td>NaN</td>\n",
       "      <td>NaN</td>\n",
       "    </tr>\n",
       "  </tbody>\n",
       "</table>\n",
       "<p>5 rows × 41 columns</p>\n",
       "</div>"
      ],
      "text/plain": [
       "  SOPInstanceUID Modality    PatientID StudyInstanceUID SeriesInstanceUID  \\\n",
       "0   ID_47a2de312       CT  ID_ae549afd    ID_ed2df9f4f0     ID_823c0e49f8   \n",
       "1   ID_0ea75f68f       CT  ID_2e2abf40    ID_76ee69d498     ID_517894241c   \n",
       "2   ID_508306a1f       CT  ID_ad5a9ac9    ID_dbfdc62c5a     ID_a698fcc176   \n",
       "3   ID_efc19ad30       CT  ID_bc57b857    ID_7be6a5b9ee     ID_8691d27be3   \n",
       "4   ID_ba886fcc2       CT  ID_e2441ca0    ID_eb2b4f4bef     ID_4c05f02584   \n",
       "\n",
       "  StudyID  ImagePositionPatient  ImageOrientationPatient  SamplesPerPixel  \\\n",
       "0                        -125.0                      1.0                1   \n",
       "1                        -125.0                      1.0                1   \n",
       "2                        -125.0                      1.0                1   \n",
       "3                        -125.0                      1.0                1   \n",
       "4                        -125.0                      1.0                1   \n",
       "\n",
       "  PhotometricInterpretation  ...  MultiPixelSpacing  PixelSpacing1  img_min  \\\n",
       "0               MONOCHROME2  ...                  1       0.488281    -2000   \n",
       "1               MONOCHROME2  ...                  1       0.488281    -2000   \n",
       "2               MONOCHROME2  ...                  1       0.488281    -2000   \n",
       "3               MONOCHROME2  ...                  1       0.488281    -2000   \n",
       "4               MONOCHROME2  ...                  1       0.488281    -2000   \n",
       "\n",
       "   img_max    img_mean      img_std  MultiWindowCenter  WindowCenter1  \\\n",
       "0     2779   14.395943  1202.477116                NaN            NaN   \n",
       "1     3392   66.198795  1205.325972                NaN            NaN   \n",
       "2     1359 -362.891445   868.746300                NaN            NaN   \n",
       "3     2334 -268.467430  1249.256516                NaN            NaN   \n",
       "4     2742 -272.197708   985.178578                NaN            NaN   \n",
       "\n",
       "   MultiWindowWidth  WindowWidth1  \n",
       "0               NaN           NaN  \n",
       "1               NaN           NaN  \n",
       "2               NaN           NaN  \n",
       "3               NaN           NaN  \n",
       "4               NaN           NaN  \n",
       "\n",
       "[5 rows x 41 columns]"
      ]
     },
     "execution_count": 12,
     "metadata": {},
     "output_type": "execute_result"
    }
   ],
   "source": [
    "%time df_tst = pd.DataFrame.from_dicoms(fns_tst, px_summ=True, n_workers=2)\n",
    "df_tst.to_feather('df_tst.fth')\n",
    "df_tst.head()"
   ]
  },
  {
   "cell_type": "code",
   "execution_count": 13,
   "metadata": {},
   "outputs": [],
   "source": [
    "del(df_tst)\n",
    "gc.collect();"
   ]
  },
  {
   "cell_type": "markdown",
   "metadata": {},
   "source": [
    "Unfortunately Kaggle runs out of RAM if we use multiple workers, so we pass `n_workers=0`, which disables parallel processing."
   ]
  },
  {
   "cell_type": "code",
   "execution_count": 14,
   "metadata": {},
   "outputs": [
    {
     "data": {
      "text/html": [
       "\n",
       "    <div>\n",
       "        <style>\n",
       "            /* Turns off some styling */\n",
       "            progress {\n",
       "                /* gets rid of default border in Firefox and Opera. */\n",
       "                border: none;\n",
       "                /* Needs to be in here for Safari polyfill so background images work as expected. */\n",
       "                background-size: auto;\n",
       "            }\n",
       "            .progress-bar-interrupted, .progress-bar-interrupted::-webkit-progress-bar {\n",
       "                background: #F44336;\n",
       "            }\n",
       "        </style>\n",
       "      <progress value='661476' class='' max='674258', style='width:300px; height:20px; vertical-align: middle;'></progress>\n",
       "      98.10% [661476/674258 1:53:58<02:12]\n",
       "    </div>\n",
       "    "
      ],
      "text/plain": [
       "<IPython.core.display.HTML object>"
      ]
     },
     "metadata": {},
     "output_type": "display_data"
    },
    {
     "name": "stdout",
     "output_type": "stream",
     "text": [
      "{'SOPInstanceUID': 'ID_6431af929', 'Modality': 'CT', 'PatientID': 'ID_bba2045f', 'StudyInstanceUID': 'ID_9180c688de', 'SeriesInstanceUID': 'ID_863be16ddb', 'StudyID': '', 'ImagePositionPatient': \"-125.000\", 'ImageOrientationPatient': \"1.000000\", 'SamplesPerPixel': 1, 'PhotometricInterpretation': 'MONOCHROME2', 'Rows': 512, 'Columns': 512, 'PixelSpacing': \"0.488281\", 'BitsAllocated': 16, 'BitsStored': 16, 'HighBit': 15, 'PixelRepresentation': 1, 'WindowCenter': \"30\", 'WindowWidth': \"80\", 'RescaleIntercept': \"-1024\", 'RescaleSlope': \"1\", 'fname': '../input/rsna-intracranial-hemorrhage-detection/stage_1_train_images/ID_6431af929.dcm', 'MultiImagePositionPatient': 1, 'ImagePositionPatient1': \"-127.746\", 'ImagePositionPatient2': \"174.901\", 'MultiImageOrientationPatient': 1, 'ImageOrientationPatient1': \"0.000000\", 'ImageOrientationPatient2': \"0.000000\", 'ImageOrientationPatient3': \"0.000000\", 'ImageOrientationPatient4': \"0.972370\", 'ImageOrientationPatient5': \"-0.233445\", 'MultiPixelSpacing': 1, 'PixelSpacing1': \"0.488281\", 'img_min': 0, 'img_max': 0, 'img_mean': 0, 'img_std': 0} The length of the pixel data in the dataset (153710 bytes) doesn't match the expected length (524288 bytes). The dataset may be corrupted or there may be an issue with the pixel data handler.\n"
     ]
    }
   ],
   "source": [
    "%time df_trn = pd.DataFrame.from_dicoms(fns_trn, px_summ=True, n_workers=0)\n",
    "df_trn.to_feather('df_trn.fth')"
   ]
  },
  {
   "cell_type": "markdown",
   "metadata": {},
   "source": [
    "There is one corrupted DICOM in the competition data, so the command above prints out the information about this file. Despite the error message show above, the command completes successfully, and the data from the corrupted file is not included in the output DataFrame."
   ]
  }
 ],
 "metadata": {
  "kernelspec": {
   "display_name": "Python 3",
   "language": "python",
   "name": "python3"
  },
  "language_info": {
   "codemirror_mode": {
    "name": "ipython",
    "version": 3
   },
   "file_extension": ".py",
   "mimetype": "text/x-python",
   "name": "python",
   "nbconvert_exporter": "python",
   "pygments_lexer": "ipython3",
   "version": "3.6.6"
  }
 },
 "nbformat": 4,
 "nbformat_minor": 1
}
